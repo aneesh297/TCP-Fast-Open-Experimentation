{
 "cells": [
  {
   "cell_type": "code",
   "execution_count": 1,
   "metadata": {},
   "outputs": [],
   "source": [
    "from matplotlib import pyplot as plt\n",
    "%matplotlib inline\n",
    "import seaborn as sns\n",
    "import pandas as pd\n",
    "import numpy as np"
   ]
  },
  {
   "cell_type": "code",
   "execution_count": 2,
   "metadata": {},
   "outputs": [],
   "source": [
    "values = pd.read_csv('result.csv')"
   ]
  },
  {
   "cell_type": "code",
   "execution_count": 3,
   "metadata": {},
   "outputs": [
    {
     "data": {
      "text/html": [
       "<div>\n",
       "<style>\n",
       "    .dataframe thead tr:only-child th {\n",
       "        text-align: right;\n",
       "    }\n",
       "\n",
       "    .dataframe thead th {\n",
       "        text-align: left;\n",
       "    }\n",
       "\n",
       "    .dataframe tbody tr th {\n",
       "        vertical-align: top;\n",
       "    }\n",
       "</style>\n",
       "<table border=\"1\" class=\"dataframe\">\n",
       "  <thead>\n",
       "    <tr style=\"text-align: right;\">\n",
       "      <th></th>\n",
       "      <th>Website</th>\n",
       "      <th>Delay</th>\n",
       "      <th>Time for transfer</th>\n",
       "      <th>tcp</th>\n",
       "    </tr>\n",
       "  </thead>\n",
       "  <tbody>\n",
       "    <tr>\n",
       "      <th>0</th>\n",
       "      <td>flipkart</td>\n",
       "      <td>20</td>\n",
       "      <td>0.20</td>\n",
       "      <td>vanilla</td>\n",
       "    </tr>\n",
       "    <tr>\n",
       "      <th>1</th>\n",
       "      <td>flipkart</td>\n",
       "      <td>100</td>\n",
       "      <td>1.00</td>\n",
       "      <td>vanilla</td>\n",
       "    </tr>\n",
       "    <tr>\n",
       "      <th>2</th>\n",
       "      <td>flipkart</td>\n",
       "      <td>200</td>\n",
       "      <td>2.00</td>\n",
       "      <td>vanilla</td>\n",
       "    </tr>\n",
       "    <tr>\n",
       "      <th>3</th>\n",
       "      <td>amazon_in</td>\n",
       "      <td>20</td>\n",
       "      <td>13.88</td>\n",
       "      <td>vanilla</td>\n",
       "    </tr>\n",
       "    <tr>\n",
       "      <th>4</th>\n",
       "      <td>amazon_in</td>\n",
       "      <td>100</td>\n",
       "      <td>28.28</td>\n",
       "      <td>vanilla</td>\n",
       "    </tr>\n",
       "  </tbody>\n",
       "</table>\n",
       "</div>"
      ],
      "text/plain": [
       "     Website  Delay  Time for transfer      tcp\n",
       "0   flipkart     20               0.20  vanilla\n",
       "1   flipkart    100               1.00  vanilla\n",
       "2   flipkart    200               2.00  vanilla\n",
       "3  amazon_in     20              13.88  vanilla\n",
       "4  amazon_in    100              28.28  vanilla"
      ]
     },
     "execution_count": 3,
     "metadata": {},
     "output_type": "execute_result"
    }
   ],
   "source": [
    "values.head()"
   ]
  },
  {
   "cell_type": "code",
   "execution_count": 4,
   "metadata": {
    "scrolled": true
   },
   "outputs": [
    {
     "data": {
      "image/png": "[encoded data removed]",
      "text/plain": [
       "<matplotlib.figure.Figure at 0x7fa2412354e0>"
      ]
     },
     "metadata": {},
     "output_type": "display_data"
    }
   ],
   "source": [
    "websites = values.Website.unique()\n",
    "delays = np.array(values.Delay.unique())\n",
    "delays.sort()\n",
    "fig, ax = plt.subplots(ncols = websites.shape[0], figsize=(10, 5))\n",
    "pos = 0\n",
    "width = 0.35\n",
    "#fig.subplots_adjust(hspace=0.5)\n",
    "for website in websites:\n",
    "    #ax = fig.add_subplot(1,pos)\n",
    "    ip = values[values.Website == website]\n",
    "    ip1 = ip[ip.tcp =='vanilla']\n",
    "    ip2 = ip[ip.tcp =='fast_open']\n",
    "    y_pos = np.arange(ip1.shape[0])\n",
    "    \n",
    "    rects1 = ax[pos].bar(y_pos, ip1['Time for transfer'],width, color='r')\n",
    "\n",
    "    rects2 = ax[pos].bar(y_pos + width, ip2['Time for transfer'],width, color='y')\n",
    "    \n",
    "    ax[pos].set_ylabel(\"Time for transfer\")\n",
    "    ax[pos].set_xlabel(\"Delay\")\n",
    "    ax[pos].set_title(website)\n",
    "    ax[pos].set_xticks(y_pos)\n",
    "    ax[pos].set_xticklabels(delays)\n",
    "    ax[pos].legend((rects1[0], rects2[0]), ('TCP Vanilla', 'TCP Fast Open'))\n",
    "    pos = pos + 1\n",
    "plt.tight_layout()\n",
    "plt.show()"
   ]
  },
  {
   "cell_type": "code",
   "execution_count": null,
   "metadata": {},
   "outputs": [],
   "source": []
  }
 ],
 "metadata": {
  "kernelspec": {
   "display_name": "Python 3",
   "language": "python",
   "name": "python3"
  },
  "language_info": {
   "codemirror_mode": {
    "name": "ipython",
    "version": 3
   },
   "file_extension": ".py",
   "mimetype": "text/x-python",
   "name": "python",
   "nbconvert_exporter": "python",
   "pygments_lexer": "ipython3",
   "version": "3.5.2"
  }
 },
 "nbformat": 4,
 "nbformat_minor": 2
}
